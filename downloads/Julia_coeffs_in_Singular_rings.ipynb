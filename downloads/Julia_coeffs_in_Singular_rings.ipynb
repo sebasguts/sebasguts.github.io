{
 "cells": [
  {
   "cell_type": "markdown",
   "metadata": {},
   "source": [
    "# Using Nemo rings as coefficients in Singular"
   ]
  },
  {
   "cell_type": "code",
   "execution_count": 1,
   "metadata": {},
   "outputs": [
    {
     "name": "stdout",
     "output_type": "stream",
     "text": [
      "\n",
      "Welcome to AbstractAlgebra version 0.0.8\n",
      "\n",
      "AbstractAlgebra comes with absolutely no warranty whatsoever\n",
      "\n",
      "\n",
      "Welcome to Nemo version 0.8.4\n",
      "\n",
      "Nemo comes with absolutely no warranty whatsoever\n",
      "\n"
     ]
    }
   ],
   "source": [
    "using Cxx\n",
    "using Singular"
   ]
  },
  {
   "cell_type": "markdown",
   "metadata": {},
   "source": [
    "Create a Nemo polynomial ring in one variable and use it to create a Nemo number field"
   ]
  },
  {
   "cell_type": "code",
   "execution_count": 2,
   "metadata": {},
   "outputs": [
    {
     "data": {
      "text/plain": [
       "(Number field over Rational Field with defining polynomial t^3+3*t+1, a)"
      ]
     },
     "execution_count": 2,
     "metadata": {},
     "output_type": "execute_result"
    }
   ],
   "source": [
    "R, t = Nemo.PolynomialRing(Nemo.QQ, \"t\")\n",
    "K, a = Nemo.NumberField(t^3 + 3t + 1, \"a\")"
   ]
  },
  {
   "cell_type": "markdown",
   "metadata": {},
   "source": [
    "Create a Singular polynomial ring with the Nemo number field as coefficient ring"
   ]
  },
  {
   "cell_type": "code",
   "execution_count": 3,
   "metadata": {},
   "outputs": [
    {
     "data": {
      "text/plain": [
       "(Singular Polynomial Ring (Coeffs(18)),(x,y,z),(dp(3),C), Singular.spoly{Singular.n_unknown{Nemo.nf_elem}}[x, y, z])"
      ]
     },
     "execution_count": 3,
     "metadata": {},
     "output_type": "execute_result"
    }
   ],
   "source": [
    "S, (x, y, z) = Singular.PolynomialRing(K, [\"x\", \"y\", \"z\"])"
   ]
  },
  {
   "cell_type": "markdown",
   "metadata": {},
   "source": [
    "Now we can create some polynomials with coefficients in the number field"
   ]
  },
  {
   "cell_type": "code",
   "execution_count": 4,
   "metadata": {},
   "outputs": [
    {
     "data": {
      "text/plain": [
       "x^3+y^3+(a)*z^3"
      ]
     },
     "execution_count": 4,
     "metadata": {},
     "output_type": "execute_result"
    }
   ],
   "source": [
    "p = x + a^2*y + a*z\n",
    "q = x + 2*a*y^2 + (a^2+a)*z^3\n",
    "r = x^3 + y^3 + a*z^3"
   ]
  },
  {
   "cell_type": "markdown",
   "metadata": {},
   "source": [
    "We can turn them into an ideal and compute it standard basis"
   ]
  },
  {
   "cell_type": "code",
   "execution_count": 5,
   "metadata": {},
   "outputs": [
    {
     "data": {
      "text/plain": [
       "Singular Ideal over Singular Polynomial Ring (Coeffs(18)),(x,y,z),(dp(3),C) with generators (x+(a^2)*y+(a)*z, (a^2 + 1*a)*z^3+(2*a)*y^2+x, x^3+y^3+(a)*z^3)"
      ]
     },
     "execution_count": 5,
     "metadata": {},
     "output_type": "execute_result"
    }
   ],
   "source": [
    "ideal = Singular.Ideal( S, [ p, q, r ] )"
   ]
  },
  {
   "cell_type": "code",
   "execution_count": 6,
   "metadata": {},
   "outputs": [
    {
     "data": {
      "text/plain": [
       "Singular Ideal over Singular Polynomial Ring (Coeffs(18)),(x,y,z),(dp(3),C) with generators (x+(a^2)*y+(a)*z, z^3+(2//3*a^2 - 2//3*a + 8//3)*y^2+(1//3*a^2 - 1//3*a + 1//3)*y+(-1//3*a^2 + 1//3*a - 4//3)*z, y^3+(-6//35*a^2 - 31//35*a - 9//35)*y^2*z+(9//35*a^2 - 6//35*a - 4//35)*y*z^2+(2//7*a^2 - 4//21*a + 16//21)*y^2+(2//21*a^2 + 1//21*a + 1//7)*y+(-1//7*a^2 + 2//21*a - 8//21)*z)"
      ]
     },
     "execution_count": 6,
     "metadata": {},
     "output_type": "execute_result"
    }
   ],
   "source": [
    "basis = Singular.std( ideal )"
   ]
  },
  {
   "cell_type": "code",
   "execution_count": 7,
   "metadata": {},
   "outputs": [
    {
     "data": {
      "text/plain": [
       "Singular Module over Singular Polynomial Ring (Coeffs(18)),(x,y,z),(dp(3),C), with Generators:\n",
       "z^3*gen(1)+(2//3*a^2 - 2//3*a + 8//3)*y^2*gen(1)+(-1)*x*gen(2)+(-a^2)*y*gen(2)+(1//3*a^2 - 1//3*a + 1//3)*y*gen(1)+(-a)*z*gen(2)+(-1//3*a^2 + 1//3*a - 4//3)*z*gen(1)\n",
       "y^3*gen(1)+(-6//35*a^2 - 31//35*a - 9//35)*y^2*z*gen(1)+(9//35*a^2 - 6//35*a - 4//35)*y*z^2*gen(1)+(2//7*a^2 - 4//21*a + 16//21)*y^2*gen(1)+(-1)*x*gen(3)+(-a^2)*y*gen(3)+(2//21*a^2 + 1//21*a + 1//7)*y*gen(1)+(-a)*z*gen(3)+(-1//7*a^2 + 2//21*a - 8//21)*z*gen(1)\n",
       "y^3*gen(2)+(-6//35*a^2 - 31//35*a - 9//35)*y^2*z*gen(2)+(9//35*a^2 - 6//35*a - 4//35)*y*z^2*gen(2)+(-1)*z^3*gen(3)+(-2//3*a^2 + 2//3*a - 8//3)*y^2*gen(3)+(2//7*a^2 - 4//21*a + 16//21)*y^2*gen(2)+(-1//3*a^2 + 1//3*a - 1//3)*y*gen(3)+(2//21*a^2 + 1//21*a + 1//7)*y*gen(2)+(1//3*a^2 - 1//3*a + 4//3)*z*gen(3)+(-1//7*a^2 + 2//21*a - 8//21)*z*gen(2)"
      ]
     },
     "execution_count": 7,
     "metadata": {},
     "output_type": "execute_result"
    }
   ],
   "source": [
    "basis_syzygies = Singular.syz( basis )"
   ]
  },
  {
   "cell_type": "code",
   "execution_count": null,
   "metadata": {},
   "outputs": [],
   "source": []
  }
 ],
 "metadata": {
  "kernelspec": {
   "display_name": "Julia 0.6.3",
   "language": "julia",
   "name": "julia-0.6"
  },
  "language_info": {
   "file_extension": ".jl",
   "mimetype": "application/julia",
   "name": "julia",
   "version": "0.6.3"
  }
 },
 "nbformat": 4,
 "nbformat_minor": 2
}
