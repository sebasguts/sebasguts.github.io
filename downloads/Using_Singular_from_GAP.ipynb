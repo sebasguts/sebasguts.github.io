{
 "cells": [
  {
   "cell_type": "markdown",
   "metadata": {},
   "source": [
    "# Using Singular in GAP via Julia\n",
    "\n",
    "Experimental interfaces and code can be found in the JuliaInterface package"
   ]
  },
  {
   "cell_type": "code",
   "execution_count": 1,
   "metadata": {},
   "outputs": [],
   "source": [
    "LoadPackage( \"JuliaExperimental\", false );;"
   ]
  },
  {
   "cell_type": "markdown",
   "metadata": {},
   "source": [
    "## Just call the appropriate Julia functions from GAP.¶\n",
    "\n",
    "Define the ring with the default monomial ordering. The syntax looks complicated; the reason is that the Julia syntax for specifying the monomial ordering ('named arguments') is not available in the low level interface."
   ]
  },
  {
   "cell_type": "code",
   "execution_count": 10,
   "metadata": {},
   "outputs": [
    {
     "data": {
      "text/plain": [
       "<Julia: Any[\"x0\", \"x1\", \"x2\", \"x3\"]>"
      ]
     },
     "execution_count": 2,
     "metadata": {
      "text/plain": ""
     },
     "output_type": "execute_result"
    },
    {
     "data": {
      "text/plain": [
       "<Julia: String[\"x0\", \"x1\", \"x2\", \"x3\"]>"
      ]
     },
     "execution_count": 3,
     "metadata": {
      "text/plain": ""
     },
     "output_type": "execute_result"
    },
    {
     "data": {
      "text/plain": [
       "<Julia: (Singular Polynomial Ring (QQ),(x0,x1,x2,x3),(dp(4),C), Singular.spoly{Singular.n_Q}[x0, x1, x2, x3])>"
      ]
     },
     "execution_count": 4,
     "metadata": {
      "text/plain": ""
     },
     "output_type": "execute_result"
    },
    {
     "data": {
      "text/plain": [
       "<Julia: Singular Polynomial Ring (QQ),(x0,x1,x2,x3),(dp(4),C)>"
      ]
     },
     "execution_count": 5,
     "metadata": {
      "text/plain": ""
     },
     "output_type": "execute_result"
    },
    {
     "data": {
      "text/plain": [
       "[ <Julia: x0>, <Julia: x1>, <Julia: x2>, <Julia: x3> ]"
      ]
     },
     "execution_count": 6,
     "metadata": {
      "text/plain": ""
     },
     "output_type": "execute_result"
    }
   ],
   "source": [
    "indetnames:= ConvertedToJulia( [ \"x0\", \"x1\", \"x2\", \"x3\" ] );\n",
    "indetnames:= Julia.Base.convert( JuliaEvalString( \"Array{String,1}\" ),\n",
    "                 indetnames );\n",
    "Rinfo:= Julia.Singular.PolynomialRing( Julia.Singular.QQ, indetnames );\n",
    "R:= Rinfo[1];\n",
    "indets:= ConvertedFromJulia( Rinfo[2] );\n",
    "x0:= indets[1];;  x1:= indets[2];;  x2:= indets[3];;  x3:= indets[4];;"
   ]
  },
  {
   "cell_type": "markdown",
   "metadata": {},
   "source": [
    "We can now create polynomials in the Singular ring, for example the polynomial $(x_1+x_3)^2$"
   ]
  },
  {
   "cell_type": "code",
   "execution_count": 11,
   "metadata": {},
   "outputs": [
    {
     "data": {
      "text/plain": [
       "<Julia: x1^2+2*x1*x3+x3^2>"
      ]
     },
     "execution_count": 11,
     "metadata": {
      "text/plain": ""
     },
     "output_type": "execute_result"
    }
   ],
   "source": [
    "p:= (x1+x3)^2;"
   ]
  },
  {
   "cell_type": "markdown",
   "metadata": {},
   "source": [
    "To create ideals, use Singular.jl's command `Ideal`"
   ]
  },
  {
   "cell_type": "code",
   "execution_count": 12,
   "metadata": {},
   "outputs": [
    {
     "data": {
      "text/plain": [
       "<Julia: Singular Ideal over Singular Polynomial Ring (QQ),(x0,x1,x2,x3),(dp(4),C) with generators (x0^2-x1*x3, x0*x1-x2*x3)>"
      ]
     },
     "execution_count": 12,
     "metadata": {
      "text/plain": ""
     },
     "output_type": "execute_result"
    }
   ],
   "source": [
    "I:= Julia.Singular.Ideal( R, x0^2 - x1*x3, x0*x1 - x2*x3 );"
   ]
  },
  {
   "cell_type": "markdown",
   "metadata": {},
   "source": [
    "We can compute the standard basis of such an ideal"
   ]
  },
  {
   "cell_type": "code",
   "execution_count": 13,
   "metadata": {},
   "outputs": [
    {
     "data": {
      "text/plain": [
       "<Julia: Singular Ideal over Singular Polynomial Ring (QQ),(x0,x1,x2,x3),(dp(4),C) with generators (x0*x1-x2*x3, x0^2-x1*x3, x1^2*x3-x0*x2*x3)>"
      ]
     },
     "execution_count": 13,
     "metadata": {
      "text/plain": ""
     },
     "output_type": "execute_result"
    }
   ],
   "source": [
    "G:= Julia.Base.std( I );"
   ]
  },
  {
   "cell_type": "markdown",
   "metadata": {},
   "source": [
    "and its syzygy module"
   ]
  },
  {
   "cell_type": "code",
   "execution_count": 14,
   "metadata": {},
   "outputs": [
    {
     "data": {
      "text/plain": [
       "<Julia: Singular Module over Singular Polynomial Ring (QQ),(x0,x1,x2,x3),(dp(4),C)x0*gen(1)-x1*gen(2)-gen(3)x1*x3*gen(1)-x2*x3*gen(2)-x0*gen(3)>"
      ]
     },
     "execution_count": 14,
     "metadata": {
      "text/plain": ""
     },
     "output_type": "execute_result"
    }
   ],
   "source": [
    "S:= Julia.Singular.syz( G );"
   ]
  },
  {
   "cell_type": "markdown",
   "metadata": {},
   "source": [
    "To access the second column in the syzygy modules use the bracket operator"
   ]
  },
  {
   "cell_type": "code",
   "execution_count": 15,
   "metadata": {},
   "outputs": [
    {
     "data": {
      "text/plain": [
       "<Julia: x1*x3*gen(1)-x2*x3*gen(2)-x0*gen(3)>"
      ]
     },
     "execution_count": 15,
     "metadata": {
      "text/plain": ""
     },
     "output_type": "execute_result"
    }
   ],
   "source": [
    "S[2];"
   ]
  }
 ],
 "metadata": {
  "kernelspec": {
   "display_name": "GAP 4",
   "language": "gap",
   "name": "gap-4"
  },
  "language_info": {
   "codemirror_mode": "gap",
   "file_extension": ".g",
   "mimetype": "text/x-gap",
   "name": "GAP 4",
   "nbconvert_exporter": "",
   "pygments_lexer": "gap",
   "version": "4.dev"
  }
 },
 "nbformat": 4,
 "nbformat_minor": 2
}
